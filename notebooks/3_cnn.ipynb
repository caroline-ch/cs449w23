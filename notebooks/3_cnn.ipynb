{
  "nbformat": 4,
  "nbformat_minor": 0,
  "metadata": {
    "colab": {
      "provenance": []
    },
    "kernelspec": {
      "name": "python3",
      "display_name": "Python 3"
    },
    "language_info": {
      "name": "python"
    }
  },
  "cells": [
    {
      "cell_type": "code",
      "execution_count": 57,
      "metadata": {
        "id": "_QmCn8QZT0Dj"
      },
      "outputs": [],
      "source": [
        "import torch\n",
        "import numpy as np\n",
        "import matplotlib.pyplot as plt\n",
        "\n",
        "from sklearn.datasets import load_digits\n",
        "from sklearn.model_selection import train_test_split\n",
        "\n",
        "from collections import defaultdict"
      ]
    },
    {
      "cell_type": "code",
      "source": [
        "X, y = load_digits(return_X_y=True)\n",
        "fig, axes = plt.subplots(nrows=1, ncols=5, figsize=(20, 5), sharex=True,)\n",
        "plt.gray()\n",
        "for i, axis in enumerate(axes):\n",
        "    axis.matshow(X[i, :].reshape(8, 8))\n",
        "plt.show()"
      ],
      "metadata": {
        "colab": {
          "base_uri": "https://localhost:8080/",
          "height": 244
        },
        "id": "qnXaSkXiT-j2",
        "outputId": "53491255-ea95-4cc8-c753-4bbdccb9b8bc"
      },
      "execution_count": 10,
      "outputs": [
        {
          "output_type": "display_data",
          "data": {
            "text/plain": [
              "<Figure size 1440x360 with 5 Axes>"
            ],
            "image/png": "[encoded data removed]"
          },
          "metadata": {
            "needs_background": "light"
          }
        }
      ]
    },
    {
      "cell_type": "code",
      "source": [
        "class CNN(torch.nn.Module):\n",
        "    def __init__(self):\n",
        "        super(CNN, self).__init__()\n",
        "\n",
        "        self.conv1 = torch.nn.Conv2d(1, 32, kernel_size=2)\n",
        "        self.conv2 = torch.nn.Conv2d(32, 16, kernel_size=2)\n",
        "        self.linear = torch.nn.Linear(16, 10)\n",
        "\n",
        "    def forward(self, x):\n",
        "        relu = torch.nn.ReLU()\n",
        "        maxpool = torch.nn.MaxPool2d(kernel_size=2)\n",
        "\n",
        "        x = self.conv1(x)\n",
        "        x = maxpool(relu(x))\n",
        "\n",
        "        x = self.conv2(x)\n",
        "        x = maxpool(relu(x))\n",
        "\n",
        "        x = x.reshape(-1, 16)\n",
        "        x = self.linear(x)\n",
        "        return x"
      ],
      "metadata": {
        "id": "9zu7TtrxU-g3"
      },
      "execution_count": 46,
      "outputs": []
    },
    {
      "cell_type": "code",
      "source": [
        "def run_one_epoch(model, optimizer, X, y, train=True):\n",
        "\n",
        "    if train:\n",
        "        model.train()\n",
        "        optimizer.zero_grad()\n",
        "    else:\n",
        "        model.eval()\n",
        "\n",
        "    output = model(X).squeeze()\n",
        "    acc = torch.sum(torch.argmax(output, dim=1) == y) / y.size(0)\n",
        "    loss = torch.nn.CrossEntropyLoss()(output, y)\n",
        "\n",
        "    if train:\n",
        "        loss.backward()\n",
        "        optimizer.step()\n",
        "\n",
        "    # Detach tells torch to stop tracking a tensor's gradients\n",
        "    return acc.detach(), loss.detach()"
      ],
      "metadata": {
        "id": "YY7gL73sWCtf"
      },
      "execution_count": 15,
      "outputs": []
    },
    {
      "cell_type": "code",
      "source": [
        "def numpy_to_tensor(lst):\n",
        "    \"\"\"\n",
        "    Convert numpy array to torch tensor\n",
        "    \"\"\"\n",
        "    if type(lst) == np.ndarray:\n",
        "        return torch.tensor(lst).to(dtype=torch.float32)\n",
        "\n",
        "    else:\n",
        "        out = [torch.tensor(item).to(dtype=torch.float32) for item in lst]\n",
        "        return tuple(out)\n",
        "\n",
        "X, y = load_digits(return_X_y=True)\n",
        "X = torch.tensor(X.reshape(-1, 1, 8, 8)).to(dtype=torch.float32)\n",
        "y = torch.tensor(y).to(dtype=torch.long)\n",
        "X_train, X_test, y_train, y_test = train_test_split(X, y, test_size=0.2)\n",
        "print(X_train.shape, X_test.shape)"
      ],
      "metadata": {
        "colab": {
          "base_uri": "https://localhost:8080/"
        },
        "id": "wXZjUXCjbMAq",
        "outputId": "9ca45f76-8d13-459b-f5c9-5bc4e9a67241"
      },
      "execution_count": 51,
      "outputs": [
        {
          "output_type": "stream",
          "name": "stdout",
          "text": [
            "torch.Size([1437, 1, 8, 8]) torch.Size([360, 1, 8, 8])\n"
          ]
        }
      ]
    },
    {
      "cell_type": "code",
      "source": [
        "def demo(n_epochs=10, verbose=False):\n",
        "    model = CNN()\n",
        "    optimizer = torch.optim.Adam(model.parameters(), lr=0.001)\n",
        "    \n",
        "    results = defaultdict(list)\n",
        "    for i in range(n_epochs):\n",
        "        train_acc, train_loss = run_one_epoch(model, optimizer, X_train, y_train, train=True)\n",
        "        test_acc, test_loss = run_one_epoch(model, optimizer, X_test, y_test, train=False)\n",
        "\n",
        "        results[\"train_acc\"].append(train_acc)\n",
        "        results[\"test_acc\"].append(test_acc)\n",
        "        results[\"train_loss\"].append(train_loss)\n",
        "        results[\"test_loss\"].append(test_loss)\n",
        "\n",
        "        if (i + 1) % (n_epochs // 10) == 0:\n",
        "            train_stats = f\"Train loss: {train_loss:.3f} Train accuracy: {100 * train_acc:4.1f}%\"\n",
        "            test_stats = f\"Test loss: {test_loss:.3f} Test accuracy: {100 * test_acc:.1f}%\"\n",
        "            print(f\"{i + 1:4d} {train_stats} {test_stats}\")\n",
        "\n",
        "    return results"
      ],
      "metadata": {
        "id": "QaXeUgwvWZ2M"
      },
      "execution_count": 55,
      "outputs": []
    },
    {
      "cell_type": "code",
      "source": [
        "results = demo(1000)"
      ],
      "metadata": {
        "colab": {
          "base_uri": "https://localhost:8080/"
        },
        "id": "_hIfh8YbXJE_",
        "outputId": "6e41dc14-d287-48c2-df93-75cc89e23498"
      },
      "execution_count": 58,
      "outputs": [
        {
          "output_type": "stream",
          "name": "stdout",
          "text": [
            " 100 Train loss: 0.658 Train accuracy: 84.6% Test loss: 0.659 Test accuracy: 84.2%\n",
            " 200 Train loss: 0.228 Train accuracy: 94.9% Test loss: 0.279 Test accuracy: 91.9%\n",
            " 300 Train loss: 0.100 Train accuracy: 98.1% Test loss: 0.183 Test accuracy: 94.4%\n",
            " 400 Train loss: 0.053 Train accuracy: 99.3% Test loss: 0.164 Test accuracy: 95.3%\n",
            " 500 Train loss: 0.029 Train accuracy: 99.7% Test loss: 0.167 Test accuracy: 95.6%\n",
            " 600 Train loss: 0.018 Train accuracy: 100.0% Test loss: 0.174 Test accuracy: 95.8%\n",
            " 700 Train loss: 0.011 Train accuracy: 100.0% Test loss: 0.181 Test accuracy: 95.6%\n",
            " 800 Train loss: 0.008 Train accuracy: 100.0% Test loss: 0.189 Test accuracy: 95.6%\n",
            " 900 Train loss: 0.006 Train accuracy: 100.0% Test loss: 0.196 Test accuracy: 95.6%\n",
            "1000 Train loss: 0.004 Train accuracy: 100.0% Test loss: 0.203 Test accuracy: 95.8%\n"
          ]
        }
      ]
    },
    {
      "cell_type": "code",
      "source": [
        "def plot(results):\n",
        "    \n",
        "    fig, axes = plt.subplots(nrows=1, ncols=2, figsize=(10, 5),\n",
        "                             constrained_layout=True)\n",
        "\n",
        "    ax = axes[0]\n",
        "    ax.set_title(\"Loss per Epoch\")\n",
        "    train_loss = results[\"train_loss\"]\n",
        "    test_loss = results[\"test_loss\"]\n",
        "    n_epochs = len(train_loss)\n",
        "    ax.plot(np.arange(n_epochs), train_loss, c='r', label='Train Loss')\n",
        "    ax.plot(np.arange(n_epochs), test_loss, c='b', label='Test Loss')\n",
        "    ax.legend(loc=\"best\")\n",
        "    ymin, ymax = ax.get_ylim()\n",
        "    ax.set_ylim(ymin, 2 * ymax)\n",
        "\n",
        "    # Bottom right\n",
        "    ax = axes[1]\n",
        "    ax.set_title(\"Accuracy per Epoch\")\n",
        "    train_acc = results[\"train_acc\"]\n",
        "    test_acc = results[\"test_acc\"]\n",
        "    n_epochs = len(train_acc)\n",
        "    ax.plot(np.arange(n_epochs), train_acc, c='r', label='Train Acc')\n",
        "    ax.plot(np.arange(n_epochs), test_acc, c='b', label='Test Acc')\n",
        "    ax.legend(loc=\"best\")\n",
        "    ax.set_ylim(0, 1.1)\n",
        "\n",
        "    plt.show()\n",
        "plot(results)"
      ],
      "metadata": {
        "colab": {
          "base_uri": "https://localhost:8080/",
          "height": 385
        },
        "id": "JtCKUPElc6-l",
        "outputId": "3f623dc8-71e3-4b59-f4e4-0592544799dd"
      },
      "execution_count": 61,
      "outputs": [
        {
          "output_type": "display_data",
          "data": {
            "text/plain": [
              "<Figure size 720x360 with 2 Axes>"
            ],
            "image/png": "[encoded data removed]"
          },
          "metadata": {
            "needs_background": "light"
          }
        }
      ]
    }
  ]
}
